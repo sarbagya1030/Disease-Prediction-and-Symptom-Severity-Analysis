{
 "cells": [
  {
   "cell_type": "code",
   "execution_count": 158,
   "id": "17874b27-2e73-40ed-8b4a-6033ca8cbfa7",
   "metadata": {},
   "outputs": [],
   "source": [
    "import kagglehub\n",
    "import pandas as pd"
   ]
  },
  {
   "cell_type": "code",
   "execution_count": 41,
   "id": "a64bad35-37fe-4604-9b76-ad7b5b6c8888",
   "metadata": {},
   "outputs": [
    {
     "name": "stdout",
     "output_type": "stream",
     "text": [
      "Warning: Looks like you're using an outdated `kagglehub` version (installed: 0.3.6), please consider upgrading to the latest version (0.3.7).\n",
      "Path to dataset files: C:\\Users\\DELL\\.cache\\kagglehub\\datasets\\itachi9604\\disease-symptom-description-dataset\\versions\\2\n"
     ]
    }
   ],
   "source": [
    "path = kagglehub.dataset_download(\"itachi9604/disease-symptom-description-dataset\")\n",
    "\n",
    "print(\"Path to dataset files:\", path)"
   ]
  },
  {
   "cell_type": "code",
   "execution_count": 159,
   "id": "ffbce017-d577-4b8f-9b8a-ddb80219d024",
   "metadata": {},
   "outputs": [
    {
     "name": "stdout",
     "output_type": "stream",
     "text": [
      "<class 'pandas.core.frame.DataFrame'>\n",
      "RangeIndex: 4920 entries, 0 to 4919\n",
      "Data columns (total 18 columns):\n",
      " #   Column      Non-Null Count  Dtype \n",
      "---  ------      --------------  ----- \n",
      " 0   Disease     4920 non-null   object\n",
      " 1   Symptom_1   4920 non-null   object\n",
      " 2   Symptom_2   4920 non-null   object\n",
      " 3   Symptom_3   4920 non-null   object\n",
      " 4   Symptom_4   4572 non-null   object\n",
      " 5   Symptom_5   3714 non-null   object\n",
      " 6   Symptom_6   2934 non-null   object\n",
      " 7   Symptom_7   2268 non-null   object\n",
      " 8   Symptom_8   1944 non-null   object\n",
      " 9   Symptom_9   1692 non-null   object\n",
      " 10  Symptom_10  1512 non-null   object\n",
      " 11  Symptom_11  1194 non-null   object\n",
      " 12  Symptom_12  744 non-null    object\n",
      " 13  Symptom_13  504 non-null    object\n",
      " 14  Symptom_14  306 non-null    object\n",
      " 15  Symptom_15  240 non-null    object\n",
      " 16  Symptom_16  192 non-null    object\n",
      " 17  Symptom_17  72 non-null     object\n",
      "dtypes: object(18)\n",
      "memory usage: 692.0+ KB\n"
     ]
    }
   ],
   "source": [
    "df = pd.read_csv(\"dataset.csv\")\n",
    "df.info()"
   ]
  },
  {
   "cell_type": "code",
   "execution_count": 160,
   "id": "11828a70-e937-40e0-8df0-671a1ed68a6a",
   "metadata": {},
   "outputs": [
    {
     "name": "stdout",
     "output_type": "stream",
     "text": [
      "Empty DataFrame\n",
      "Columns: [Disease, Symptom_1, Symptom_2, Symptom_3, Symptom_4, Symptom_5, Symptom_6, Symptom_7, Symptom_8, Symptom_9, Symptom_10, Symptom_11, Symptom_12, Symptom_13, Symptom_14, Symptom_15, Symptom_16, Symptom_17]\n",
      "Index: []\n"
     ]
    }
   ],
   "source": [
    "#Check missing values for disease\n",
    "null_rows = df[df['Disease'].isnull()]\n",
    "\n",
    "print(null_rows)"
   ]
  },
  {
   "cell_type": "code",
   "execution_count": 161,
   "id": "1b98d206-a91b-451d-bf3f-c752895e800b",
   "metadata": {},
   "outputs": [
    {
     "name": "stdout",
     "output_type": "stream",
     "text": [
      "Disease          0\n",
      "Symptom_1        0\n",
      "Symptom_2        0\n",
      "Symptom_3        0\n",
      "Symptom_4      348\n",
      "Symptom_5     1206\n",
      "Symptom_6     1986\n",
      "Symptom_7     2652\n",
      "Symptom_8     2976\n",
      "Symptom_9     3228\n",
      "Symptom_10    3408\n",
      "Symptom_11    3726\n",
      "Symptom_12    4176\n",
      "Symptom_13    4416\n",
      "Symptom_14    4614\n",
      "Symptom_15    4680\n",
      "Symptom_16    4728\n",
      "Symptom_17    4848\n",
      "dtype: int64\n"
     ]
    }
   ],
   "source": [
    "# Check missing values\n",
    "print(df.isnull().sum())"
   ]
  },
  {
   "cell_type": "code",
   "execution_count": 162,
   "id": "40413cda-cede-4ff8-b43f-4cbeac46a023",
   "metadata": {},
   "outputs": [],
   "source": [
    "#Step 1: Replace missing values\n",
    "df.fillna(\"none\", inplace=True)"
   ]
  },
  {
   "cell_type": "code",
   "execution_count": 163,
   "id": "95085a44-07c3-4072-9ba4-e4a2117627e4",
   "metadata": {},
   "outputs": [
    {
     "name": "stdout",
     "output_type": "stream",
     "text": [
      "<class 'pandas.core.frame.DataFrame'>\n",
      "RangeIndex: 4920 entries, 0 to 4919\n",
      "Data columns (total 18 columns):\n",
      " #   Column      Non-Null Count  Dtype \n",
      "---  ------      --------------  ----- \n",
      " 0   Disease     4920 non-null   object\n",
      " 1   Symptom_1   4920 non-null   object\n",
      " 2   Symptom_2   4920 non-null   object\n",
      " 3   Symptom_3   4920 non-null   object\n",
      " 4   Symptom_4   4920 non-null   object\n",
      " 5   Symptom_5   4920 non-null   object\n",
      " 6   Symptom_6   4920 non-null   object\n",
      " 7   Symptom_7   4920 non-null   object\n",
      " 8   Symptom_8   4920 non-null   object\n",
      " 9   Symptom_9   4920 non-null   object\n",
      " 10  Symptom_10  4920 non-null   object\n",
      " 11  Symptom_11  4920 non-null   object\n",
      " 12  Symptom_12  4920 non-null   object\n",
      " 13  Symptom_13  4920 non-null   object\n",
      " 14  Symptom_14  4920 non-null   object\n",
      " 15  Symptom_15  4920 non-null   object\n",
      " 16  Symptom_16  4920 non-null   object\n",
      " 17  Symptom_17  4920 non-null   object\n",
      "dtypes: object(18)\n",
      "memory usage: 692.0+ KB\n"
     ]
    }
   ],
   "source": [
    "df.info()"
   ]
  },
  {
   "cell_type": "code",
   "execution_count": 164,
   "id": "a40f6258-fb6a-482c-8541-c296e7a437e8",
   "metadata": {},
   "outputs": [
    {
     "data": {
      "text/plain": [
       "0       False\n",
       "1       False\n",
       "2       False\n",
       "3       False\n",
       "4       False\n",
       "        ...  \n",
       "4915     True\n",
       "4916     True\n",
       "4917     True\n",
       "4918     True\n",
       "4919     True\n",
       "Length: 4920, dtype: bool"
      ]
     },
     "execution_count": 164,
     "metadata": {},
     "output_type": "execute_result"
    }
   ],
   "source": [
    "#Check for duplicates\n",
    "df.duplicated()"
   ]
  },
  {
   "cell_type": "code",
   "execution_count": 165,
   "id": "c7715f4a-65b1-473a-a908-d0380243229b",
   "metadata": {},
   "outputs": [],
   "source": [
    "#Step 2: Remove duplicates\n",
    "df.drop_duplicates(inplace=True)"
   ]
  },
  {
   "cell_type": "code",
   "execution_count": 166,
   "id": "f2508654-2125-4812-bcc5-db0f00bf7674",
   "metadata": {},
   "outputs": [
    {
     "data": {
      "text/plain": [
       "0      False\n",
       "1      False\n",
       "2      False\n",
       "3      False\n",
       "4      False\n",
       "       ...  \n",
       "402    False\n",
       "403    False\n",
       "405    False\n",
       "406    False\n",
       "407    False\n",
       "Length: 304, dtype: bool"
      ]
     },
     "execution_count": 166,
     "metadata": {},
     "output_type": "execute_result"
    }
   ],
   "source": [
    "df.duplicated()"
   ]
  },
  {
   "cell_type": "code",
   "execution_count": 167,
   "id": "7894c0ae-b23e-47ba-8658-3ce2374ad826",
   "metadata": {},
   "outputs": [
    {
     "name": "stdout",
     "output_type": "stream",
     "text": [
      "              Disease    Symptom_1              Symptom_2  \\\n",
      "0    fungal infection      itching              skin_rash   \n",
      "1    fungal infection    skin_rash   nodal_skin_eruptions   \n",
      "2    fungal infection      itching   nodal_skin_eruptions   \n",
      "3    fungal infection      itching              skin_rash   \n",
      "4    fungal infection      itching              skin_rash   \n",
      "..                ...          ...                    ...   \n",
      "402          impetigo   high_fever                blister   \n",
      "403          impetigo    skin_rash                blister   \n",
      "405          impetigo    skin_rash             high_fever   \n",
      "406          impetigo    skin_rash             high_fever   \n",
      "407          impetigo    skin_rash             high_fever   \n",
      "\n",
      "                 Symptom_3              Symptom_4 Symptom_5 Symptom_6  \\\n",
      "0     nodal_skin_eruptions    dischromic _patches      none      none   \n",
      "1      dischromic _patches                   none      none      none   \n",
      "2      dischromic _patches                   none      none      none   \n",
      "3      dischromic _patches                   none      none      none   \n",
      "4     nodal_skin_eruptions                   none      none      none   \n",
      "..                     ...                    ...       ...       ...   \n",
      "402   red_sore_around_nose      yellow_crust_ooze      none      none   \n",
      "403   red_sore_around_nose      yellow_crust_ooze      none      none   \n",
      "405   red_sore_around_nose      yellow_crust_ooze      none      none   \n",
      "406                blister      yellow_crust_ooze      none      none   \n",
      "407                blister   red_sore_around_nose      none      none   \n",
      "\n",
      "    Symptom_7 Symptom_8 Symptom_9 Symptom_10 Symptom_11 Symptom_12 Symptom_13  \\\n",
      "0        none      none      none       none       none       none       none   \n",
      "1        none      none      none       none       none       none       none   \n",
      "2        none      none      none       none       none       none       none   \n",
      "3        none      none      none       none       none       none       none   \n",
      "4        none      none      none       none       none       none       none   \n",
      "..        ...       ...       ...        ...        ...        ...        ...   \n",
      "402      none      none      none       none       none       none       none   \n",
      "403      none      none      none       none       none       none       none   \n",
      "405      none      none      none       none       none       none       none   \n",
      "406      none      none      none       none       none       none       none   \n",
      "407      none      none      none       none       none       none       none   \n",
      "\n",
      "    Symptom_14 Symptom_15 Symptom_16 Symptom_17  \n",
      "0         none       none       none       none  \n",
      "1         none       none       none       none  \n",
      "2         none       none       none       none  \n",
      "3         none       none       none       none  \n",
      "4         none       none       none       none  \n",
      "..         ...        ...        ...        ...  \n",
      "402       none       none       none       none  \n",
      "403       none       none       none       none  \n",
      "405       none       none       none       none  \n",
      "406       none       none       none       none  \n",
      "407       none       none       none       none  \n",
      "\n",
      "[304 rows x 18 columns]\n"
     ]
    }
   ],
   "source": [
    "#Step 3: Uniformity\n",
    "df = df.apply(lambda x: x.str.lower() if x.dtype == \"object\" else x)\n",
    "print(df)"
   ]
  },
  {
   "cell_type": "code",
   "execution_count": 168,
   "id": "b1559f22-4735-4b58-90d0-97d032a42552",
   "metadata": {},
   "outputs": [
    {
     "data": {
      "text/html": [
       "<div>\n",
       "<style scoped>\n",
       "    .dataframe tbody tr th:only-of-type {\n",
       "        vertical-align: middle;\n",
       "    }\n",
       "\n",
       "    .dataframe tbody tr th {\n",
       "        vertical-align: top;\n",
       "    }\n",
       "\n",
       "    .dataframe thead th {\n",
       "        text-align: right;\n",
       "    }\n",
       "</style>\n",
       "<table border=\"1\" class=\"dataframe\">\n",
       "  <thead>\n",
       "    <tr style=\"text-align: right;\">\n",
       "      <th></th>\n",
       "      <th>Disease</th>\n",
       "      <th>Symptom_1</th>\n",
       "      <th>Symptom_2</th>\n",
       "      <th>Symptom_3</th>\n",
       "      <th>Symptom_4</th>\n",
       "      <th>Symptom_5</th>\n",
       "      <th>Symptom_6</th>\n",
       "      <th>Symptom_7</th>\n",
       "      <th>Symptom_8</th>\n",
       "      <th>Symptom_9</th>\n",
       "      <th>Symptom_10</th>\n",
       "      <th>Symptom_11</th>\n",
       "      <th>Symptom_12</th>\n",
       "      <th>Symptom_13</th>\n",
       "      <th>Symptom_14</th>\n",
       "      <th>Symptom_15</th>\n",
       "      <th>Symptom_16</th>\n",
       "      <th>Symptom_17</th>\n",
       "    </tr>\n",
       "  </thead>\n",
       "  <tbody>\n",
       "    <tr>\n",
       "      <th>0</th>\n",
       "      <td>fungal infection</td>\n",
       "      <td>itching</td>\n",
       "      <td>skin_rash</td>\n",
       "      <td>nodal_skin_eruptions</td>\n",
       "      <td>dischromic _patches</td>\n",
       "      <td>&lt;NA&gt;</td>\n",
       "      <td>&lt;NA&gt;</td>\n",
       "      <td>&lt;NA&gt;</td>\n",
       "      <td>&lt;NA&gt;</td>\n",
       "      <td>&lt;NA&gt;</td>\n",
       "      <td>&lt;NA&gt;</td>\n",
       "      <td>&lt;NA&gt;</td>\n",
       "      <td>&lt;NA&gt;</td>\n",
       "      <td>&lt;NA&gt;</td>\n",
       "      <td>&lt;NA&gt;</td>\n",
       "      <td>&lt;NA&gt;</td>\n",
       "      <td>&lt;NA&gt;</td>\n",
       "      <td>&lt;NA&gt;</td>\n",
       "    </tr>\n",
       "    <tr>\n",
       "      <th>1</th>\n",
       "      <td>fungal infection</td>\n",
       "      <td>skin_rash</td>\n",
       "      <td>nodal_skin_eruptions</td>\n",
       "      <td>dischromic _patches</td>\n",
       "      <td>&lt;NA&gt;</td>\n",
       "      <td>&lt;NA&gt;</td>\n",
       "      <td>&lt;NA&gt;</td>\n",
       "      <td>&lt;NA&gt;</td>\n",
       "      <td>&lt;NA&gt;</td>\n",
       "      <td>&lt;NA&gt;</td>\n",
       "      <td>&lt;NA&gt;</td>\n",
       "      <td>&lt;NA&gt;</td>\n",
       "      <td>&lt;NA&gt;</td>\n",
       "      <td>&lt;NA&gt;</td>\n",
       "      <td>&lt;NA&gt;</td>\n",
       "      <td>&lt;NA&gt;</td>\n",
       "      <td>&lt;NA&gt;</td>\n",
       "      <td>&lt;NA&gt;</td>\n",
       "    </tr>\n",
       "    <tr>\n",
       "      <th>2</th>\n",
       "      <td>fungal infection</td>\n",
       "      <td>itching</td>\n",
       "      <td>nodal_skin_eruptions</td>\n",
       "      <td>dischromic _patches</td>\n",
       "      <td>&lt;NA&gt;</td>\n",
       "      <td>&lt;NA&gt;</td>\n",
       "      <td>&lt;NA&gt;</td>\n",
       "      <td>&lt;NA&gt;</td>\n",
       "      <td>&lt;NA&gt;</td>\n",
       "      <td>&lt;NA&gt;</td>\n",
       "      <td>&lt;NA&gt;</td>\n",
       "      <td>&lt;NA&gt;</td>\n",
       "      <td>&lt;NA&gt;</td>\n",
       "      <td>&lt;NA&gt;</td>\n",
       "      <td>&lt;NA&gt;</td>\n",
       "      <td>&lt;NA&gt;</td>\n",
       "      <td>&lt;NA&gt;</td>\n",
       "      <td>&lt;NA&gt;</td>\n",
       "    </tr>\n",
       "    <tr>\n",
       "      <th>3</th>\n",
       "      <td>fungal infection</td>\n",
       "      <td>itching</td>\n",
       "      <td>skin_rash</td>\n",
       "      <td>dischromic _patches</td>\n",
       "      <td>&lt;NA&gt;</td>\n",
       "      <td>&lt;NA&gt;</td>\n",
       "      <td>&lt;NA&gt;</td>\n",
       "      <td>&lt;NA&gt;</td>\n",
       "      <td>&lt;NA&gt;</td>\n",
       "      <td>&lt;NA&gt;</td>\n",
       "      <td>&lt;NA&gt;</td>\n",
       "      <td>&lt;NA&gt;</td>\n",
       "      <td>&lt;NA&gt;</td>\n",
       "      <td>&lt;NA&gt;</td>\n",
       "      <td>&lt;NA&gt;</td>\n",
       "      <td>&lt;NA&gt;</td>\n",
       "      <td>&lt;NA&gt;</td>\n",
       "      <td>&lt;NA&gt;</td>\n",
       "    </tr>\n",
       "    <tr>\n",
       "      <th>4</th>\n",
       "      <td>fungal infection</td>\n",
       "      <td>itching</td>\n",
       "      <td>skin_rash</td>\n",
       "      <td>nodal_skin_eruptions</td>\n",
       "      <td>&lt;NA&gt;</td>\n",
       "      <td>&lt;NA&gt;</td>\n",
       "      <td>&lt;NA&gt;</td>\n",
       "      <td>&lt;NA&gt;</td>\n",
       "      <td>&lt;NA&gt;</td>\n",
       "      <td>&lt;NA&gt;</td>\n",
       "      <td>&lt;NA&gt;</td>\n",
       "      <td>&lt;NA&gt;</td>\n",
       "      <td>&lt;NA&gt;</td>\n",
       "      <td>&lt;NA&gt;</td>\n",
       "      <td>&lt;NA&gt;</td>\n",
       "      <td>&lt;NA&gt;</td>\n",
       "      <td>&lt;NA&gt;</td>\n",
       "      <td>&lt;NA&gt;</td>\n",
       "    </tr>\n",
       "  </tbody>\n",
       "</table>\n",
       "</div>"
      ],
      "text/plain": [
       "            Disease   Symptom_1              Symptom_2              Symptom_3  \\\n",
       "0  fungal infection     itching              skin_rash   nodal_skin_eruptions   \n",
       "1  fungal infection   skin_rash   nodal_skin_eruptions    dischromic _patches   \n",
       "2  fungal infection     itching   nodal_skin_eruptions    dischromic _patches   \n",
       "3  fungal infection     itching              skin_rash    dischromic _patches   \n",
       "4  fungal infection     itching              skin_rash   nodal_skin_eruptions   \n",
       "\n",
       "              Symptom_4 Symptom_5 Symptom_6 Symptom_7 Symptom_8 Symptom_9  \\\n",
       "0   dischromic _patches      <NA>      <NA>      <NA>      <NA>      <NA>   \n",
       "1                  <NA>      <NA>      <NA>      <NA>      <NA>      <NA>   \n",
       "2                  <NA>      <NA>      <NA>      <NA>      <NA>      <NA>   \n",
       "3                  <NA>      <NA>      <NA>      <NA>      <NA>      <NA>   \n",
       "4                  <NA>      <NA>      <NA>      <NA>      <NA>      <NA>   \n",
       "\n",
       "  Symptom_10 Symptom_11 Symptom_12 Symptom_13 Symptom_14 Symptom_15  \\\n",
       "0       <NA>       <NA>       <NA>       <NA>       <NA>       <NA>   \n",
       "1       <NA>       <NA>       <NA>       <NA>       <NA>       <NA>   \n",
       "2       <NA>       <NA>       <NA>       <NA>       <NA>       <NA>   \n",
       "3       <NA>       <NA>       <NA>       <NA>       <NA>       <NA>   \n",
       "4       <NA>       <NA>       <NA>       <NA>       <NA>       <NA>   \n",
       "\n",
       "  Symptom_16 Symptom_17  \n",
       "0       <NA>       <NA>  \n",
       "1       <NA>       <NA>  \n",
       "2       <NA>       <NA>  \n",
       "3       <NA>       <NA>  \n",
       "4       <NA>       <NA>  "
      ]
     },
     "execution_count": 168,
     "metadata": {},
     "output_type": "execute_result"
    }
   ],
   "source": [
    "#Step 4: Replace none with NA\n",
    "df.replace(\"none\", pd.NA, inplace=True)\n",
    "df.head()"
   ]
  },
  {
   "cell_type": "code",
   "execution_count": 169,
   "id": "bc50d5d5-0731-4b6b-96da-1fc72d766b7f",
   "metadata": {},
   "outputs": [],
   "source": [
    "df.to_csv('cleaneddataset.csv', index=False)"
   ]
  },
  {
   "cell_type": "code",
   "execution_count": null,
   "id": "1e24157c-66c1-4351-8acb-92e0c7a6f9a0",
   "metadata": {},
   "outputs": [],
   "source": []
  }
 ],
 "metadata": {
  "kernelspec": {
   "display_name": "Python 3 (ipykernel)",
   "language": "python",
   "name": "python3"
  },
  "language_info": {
   "codemirror_mode": {
    "name": "ipython",
    "version": 3
   },
   "file_extension": ".py",
   "mimetype": "text/x-python",
   "name": "python",
   "nbconvert_exporter": "python",
   "pygments_lexer": "ipython3",
   "version": "3.12.6"
  }
 },
 "nbformat": 4,
 "nbformat_minor": 5
}
